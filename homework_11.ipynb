{
  "nbformat": 4,
  "nbformat_minor": 0,
  "metadata": {
    "colab": {
      "provenance": []
    },
    "kernelspec": {
      "name": "python3",
      "display_name": "Python 3"
    },
    "language_info": {
      "name": "python"
    }
  },
  "cells": [
    {
      "cell_type": "code",
      "execution_count": 1,
      "metadata": {
        "colab": {
          "base_uri": "https://localhost:8080/"
        },
        "id": "J-LVhoXp7H1R",
        "outputId": "2f0011bc-3818-40eb-821e-481f4ceeba4e"
      },
      "outputs": [
        {
          "output_type": "stream",
          "name": "stdout",
          "text": [
            "Downloading data from https://storage.googleapis.com/tensorflow/tf-keras-datasets/imdb.npz\n",
            "17464789/17464789 [==============================] - 0s 0us/step\n"
          ]
        }
      ],
      "source": [
        "import numpy as np\n",
        "from tensorflow.keras.datasets import imdb\n",
        "from tensorflow.keras.preprocessing.sequence import pad_sequences\n",
        "from tensorflow.keras.models import Sequential\n",
        "from tensorflow.keras.layers import Embedding, SimpleRNN, LSTM, Bidirectional, Dense\n",
        "\n",
        "# Завантаження даних\n",
        "max_features = 10000\n",
        "maxlen = 200  # Максимальна довжина рецензії\n",
        "batch_size = 32\n",
        "\n",
        "(x_train, y_train), (x_test, y_test) = imdb.load_data(num_words=max_features)\n",
        "\n",
        "# Заповнення або обрізання рецензій до максимальної довжини\n",
        "x_train = pad_sequences(x_train, maxlen=maxlen)\n",
        "x_test = pad_sequences(x_test, maxlen=maxlen)\n"
      ]
    },
    {
      "cell_type": "markdown",
      "source": [
        "#Проста RNN"
      ],
      "metadata": {
        "id": "uIubQ969-zKZ"
      }
    },
    {
      "cell_type": "code",
      "source": [
        "model_rnn = Sequential()\n",
        "model_rnn.add(Embedding(max_features, 32))\n",
        "model_rnn.add(SimpleRNN(32))\n",
        "model_rnn.add(Dense(1, activation='sigmoid'))\n",
        "\n",
        "model_rnn.compile(optimizer='adam', loss='binary_crossentropy', metrics=['accuracy'])\n",
        "model_rnn.fit(x_train, y_train, epochs=5, batch_size=batch_size, validation_split=0.2)\n"
      ],
      "metadata": {
        "colab": {
          "base_uri": "https://localhost:8080/"
        },
        "id": "alNc7RbS7I-j",
        "outputId": "c2010bcf-c6a1-4989-a5ea-b585760776c7"
      },
      "execution_count": 2,
      "outputs": [
        {
          "output_type": "stream",
          "name": "stdout",
          "text": [
            "Epoch 1/5\n",
            "625/625 [==============================] - 35s 53ms/step - loss: 0.5759 - accuracy: 0.6776 - val_loss: 0.4668 - val_accuracy: 0.7882\n",
            "Epoch 2/5\n",
            "625/625 [==============================] - 32s 51ms/step - loss: 0.3914 - accuracy: 0.8332 - val_loss: 0.4431 - val_accuracy: 0.8084\n",
            "Epoch 3/5\n",
            "625/625 [==============================] - 31s 49ms/step - loss: 0.2532 - accuracy: 0.9017 - val_loss: 0.4309 - val_accuracy: 0.8288\n",
            "Epoch 4/5\n",
            "625/625 [==============================] - 31s 50ms/step - loss: 0.1393 - accuracy: 0.9524 - val_loss: 0.5192 - val_accuracy: 0.8144\n",
            "Epoch 5/5\n",
            "625/625 [==============================] - 30s 49ms/step - loss: 0.1079 - accuracy: 0.9653 - val_loss: 0.8209 - val_accuracy: 0.6614\n"
          ]
        },
        {
          "output_type": "execute_result",
          "data": {
            "text/plain": [
              "<keras.src.callbacks.History at 0x781382b0f0d0>"
            ]
          },
          "metadata": {},
          "execution_count": 2
        }
      ]
    },
    {
      "cell_type": "markdown",
      "source": [
        "#LSTM"
      ],
      "metadata": {
        "id": "Qjd_MY-c-0sx"
      }
    },
    {
      "cell_type": "code",
      "source": [
        "model_lstm = Sequential()\n",
        "model_lstm.add(Embedding(max_features, 32))\n",
        "model_lstm.add(LSTM(32))\n",
        "model_lstm.add(Dense(1, activation='sigmoid'))\n",
        "\n",
        "model_lstm.compile(optimizer='adam', loss='binary_crossentropy', metrics=['accuracy'])\n",
        "model_lstm.fit(x_train, y_train, epochs=5, batch_size=batch_size, validation_split=0.2)\n"
      ],
      "metadata": {
        "colab": {
          "base_uri": "https://localhost:8080/"
        },
        "id": "r_zXK3B27LHq",
        "outputId": "59b1e5e2-1c63-462f-8a7e-0db5b133e1f5"
      },
      "execution_count": 3,
      "outputs": [
        {
          "output_type": "stream",
          "name": "stdout",
          "text": [
            "Epoch 1/5\n",
            "625/625 [==============================] - 55s 84ms/step - loss: 0.4267 - accuracy: 0.7977 - val_loss: 0.3074 - val_accuracy: 0.8704\n",
            "Epoch 2/5\n",
            "625/625 [==============================] - 47s 75ms/step - loss: 0.2341 - accuracy: 0.9112 - val_loss: 0.3101 - val_accuracy: 0.8742\n",
            "Epoch 3/5\n",
            "625/625 [==============================] - 49s 78ms/step - loss: 0.1765 - accuracy: 0.9368 - val_loss: 0.3311 - val_accuracy: 0.8684\n",
            "Epoch 4/5\n",
            "625/625 [==============================] - 47s 76ms/step - loss: 0.1419 - accuracy: 0.9488 - val_loss: 0.3559 - val_accuracy: 0.8610\n",
            "Epoch 5/5\n",
            "625/625 [==============================] - 53s 84ms/step - loss: 0.1083 - accuracy: 0.9599 - val_loss: 0.4318 - val_accuracy: 0.8662\n"
          ]
        },
        {
          "output_type": "execute_result",
          "data": {
            "text/plain": [
              "<keras.src.callbacks.History at 0x781387a51b10>"
            ]
          },
          "metadata": {},
          "execution_count": 3
        }
      ]
    },
    {
      "cell_type": "markdown",
      "source": [
        "#Bidirectional LSTM"
      ],
      "metadata": {
        "id": "lDIsrOpcAUCp"
      }
    },
    {
      "cell_type": "code",
      "source": [
        "model_bidirectional = Sequential()\n",
        "model_bidirectional.add(Embedding(max_features, 32))\n",
        "model_bidirectional.add(Bidirectional(LSTM(32)))\n",
        "model_bidirectional.add(Dense(1, activation='sigmoid'))\n",
        "\n",
        "model_bidirectional.compile(optimizer='adam', loss='binary_crossentropy', metrics=['accuracy'])\n",
        "model_bidirectional.fit(x_train, y_train, epochs=5, batch_size=batch_size, validation_split=0.2)\n"
      ],
      "metadata": {
        "colab": {
          "base_uri": "https://localhost:8080/"
        },
        "id": "yawAij6g7Nn6",
        "outputId": "64103fd7-27bf-4fed-bb94-7ae5f6b33405"
      },
      "execution_count": 5,
      "outputs": [
        {
          "output_type": "stream",
          "name": "stdout",
          "text": [
            "Epoch 1/5\n",
            "625/625 [==============================] - 95s 146ms/step - loss: 0.4125 - accuracy: 0.8049 - val_loss: 0.3383 - val_accuracy: 0.8560\n",
            "Epoch 2/5\n",
            "625/625 [==============================] - 84s 134ms/step - loss: 0.2384 - accuracy: 0.9090 - val_loss: 0.3305 - val_accuracy: 0.8548\n",
            "Epoch 3/5\n",
            "625/625 [==============================] - 87s 139ms/step - loss: 0.1787 - accuracy: 0.9340 - val_loss: 0.3315 - val_accuracy: 0.8710\n",
            "Epoch 4/5\n",
            "625/625 [==============================] - 85s 137ms/step - loss: 0.1359 - accuracy: 0.9516 - val_loss: 0.4259 - val_accuracy: 0.8614\n",
            "Epoch 5/5\n",
            "625/625 [==============================] - 82s 131ms/step - loss: 0.1077 - accuracy: 0.9632 - val_loss: 0.4188 - val_accuracy: 0.8626\n"
          ]
        },
        {
          "output_type": "execute_result",
          "data": {
            "text/plain": [
              "<keras.src.callbacks.History at 0x781385c3c850>"
            ]
          },
          "metadata": {},
          "execution_count": 5
        }
      ]
    },
    {
      "cell_type": "markdown",
      "source": [
        "#Глибока мережа з LSTM"
      ],
      "metadata": {
        "id": "i9LaGxtuAYEY"
      }
    },
    {
      "cell_type": "code",
      "source": [
        "model_deep_lstm = Sequential()\n",
        "model_deep_lstm.add(Embedding(max_features, 32))\n",
        "model_deep_lstm.add(LSTM(64, return_sequences=True))\n",
        "model_deep_lstm.add(LSTM(64))\n",
        "model_deep_lstm.add(Dense(1, activation='sigmoid'))\n",
        "\n",
        "model_deep_lstm.compile(optimizer='adam', loss='binary_crossentropy', metrics=['accuracy'])\n",
        "model_deep_lstm.fit(x_train, y_train, epochs=5, batch_size=batch_size, validation_split=0.2)\n"
      ],
      "metadata": {
        "colab": {
          "base_uri": "https://localhost:8080/"
        },
        "id": "_ry9E8r97RLD",
        "outputId": "02ea891e-0b7b-4ba8-a499-67d389d824a1"
      },
      "execution_count": 4,
      "outputs": [
        {
          "output_type": "stream",
          "name": "stdout",
          "text": [
            "Epoch 1/5\n",
            "625/625 [==============================] - 140s 218ms/step - loss: 0.4244 - accuracy: 0.7934 - val_loss: 0.3344 - val_accuracy: 0.8636\n",
            "Epoch 2/5\n",
            "625/625 [==============================] - 140s 224ms/step - loss: 0.2470 - accuracy: 0.9028 - val_loss: 0.3250 - val_accuracy: 0.8668\n",
            "Epoch 3/5\n",
            "625/625 [==============================] - 144s 230ms/step - loss: 0.1736 - accuracy: 0.9356 - val_loss: 0.3300 - val_accuracy: 0.8686\n",
            "Epoch 4/5\n",
            "625/625 [==============================] - 144s 230ms/step - loss: 0.1223 - accuracy: 0.9574 - val_loss: 0.3784 - val_accuracy: 0.8666\n",
            "Epoch 5/5\n",
            "625/625 [==============================] - 145s 232ms/step - loss: 0.0843 - accuracy: 0.9721 - val_loss: 0.4570 - val_accuracy: 0.8572\n"
          ]
        },
        {
          "output_type": "execute_result",
          "data": {
            "text/plain": [
              "<keras.src.callbacks.History at 0x781387476860>"
            ]
          },
          "metadata": {},
          "execution_count": 4
        }
      ]
    },
    {
      "cell_type": "code",
      "source": [
        "score_rnn = model_rnn.evaluate(x_test, y_test, verbose=0)\n",
        "score_lstm = model_lstm.evaluate(x_test, y_test, verbose=0)\n",
        "score_bidirectional = model_bidirectional.evaluate(x_test, y_test, verbose=0)\n",
        "score_deep_lstm = model_deep_lstm.evaluate(x_test, y_test, verbose=0)\n",
        "\n",
        "print(\"Проста RNN:\")\n",
        "print(\"Точність:\", score_rnn[1])\n",
        "\n",
        "print(\"\\nLSTM:\")\n",
        "print(\"Точність:\", score_lstm[1])\n",
        "\n",
        "print(\"\\nBidirectional LSTM:\")\n",
        "print(\"Точність:\", score_bidirectional[1])\n",
        "\n",
        "print(\"\\nГлибока мережа з LSTM:\")\n",
        "print(\"Точність:\", score_deep_lstm[1])\n"
      ],
      "metadata": {
        "colab": {
          "base_uri": "https://localhost:8080/"
        },
        "id": "Xvijwb2P7UTU",
        "outputId": "7397bbbf-dcfe-439d-e7ba-8da7a2f5eee8"
      },
      "execution_count": 6,
      "outputs": [
        {
          "output_type": "stream",
          "name": "stdout",
          "text": [
            "Проста RNN:\n",
            "Точність: 0.6661199927330017\n",
            "\n",
            "LSTM:\n",
            "Точність: 0.849399983882904\n",
            "\n",
            "Bidirectional LSTM:\n",
            "Точність: 0.8498799800872803\n",
            "\n",
            "Глибока мережа з LSTM:\n",
            "Точність: 0.8472399711608887\n"
          ]
        }
      ]
    },
    {
      "cell_type": "markdown",
      "source": [
        "Проста RNN показала найнижчу точність при класифікації рецензій на датасеті IMDb (приблизно 66.6%). Це свідчить про обмежену здатність простої RNN до моделювання складних залежностей в текстах, так як вона має проблему зі зниклими градієнтами.\n",
        "\n",
        "LSTM та глибока мережа з LSTM показали значно кращі результати з точністю близько 85%. LSTM вже має можливість управляти довготривалими залежностями завдяки механізму довгих короткострокових пам'ятей (LSTM), тоді як глибока мережа з LSTM має ще більший потенціал для моделювання складних текстових зв'язків.\n",
        "\n",
        "Bidirectional LSTM показала результат, подібний до звичайного LSTM, що вказує на те, що в даному випадку додавання бідірекціональності не значно покращило результати. Це може бути пов'язано з тим, що в деяких випадках зворотний контекст може вводити шум в модель."
      ],
      "metadata": {
        "id": "Rk8sUp1RCRB5"
      }
    },
    {
      "cell_type": "markdown",
      "source": [
        "Загалом, з точки зору точності, LSTM та глибока мережа з LSTM показали найкращі результати для класифікації рецензій у датасеті IMDb."
      ],
      "metadata": {
        "id": "wSXAgJ_UCTOf"
      }
    }
  ]
}